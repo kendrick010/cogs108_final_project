{
 "cells": [
  {
   "cell_type": "markdown",
   "metadata": {},
   "source": [
    "# COGS 108 - Final Project Proposal"
   ]
  },
  {
   "cell_type": "markdown",
   "metadata": {},
   "source": [
    "# Names\n",
    "\n",
    "- Ben Liou\n",
    "- Fanqi Lin\n",
    "- Tasnia Jamal\n",
    "- Kendrick Nguyen"
   ]
  },
  {
   "cell_type": "markdown",
   "metadata": {},
   "source": [
    "# Research Question"
   ]
  },
  {
   "cell_type": "markdown",
   "metadata": {},
   "source": [
    "*Is there a correlation between students' Big Five personality traits (i.e. openness, conscientiousness, extraversion, agreeableness, and neuroticism) and academic performance?*"
   ]
  },
  {
   "cell_type": "markdown",
   "metadata": {},
   "source": [
    "## Background and Prior Work"
   ]
  },
  {
   "cell_type": "markdown",
   "metadata": {},
   "source": [
    "Many can agree that the greatest benefit to attending school is an eduction. Yet, school also yields other invaluable benefits, such as connections and human development. From personal experience, these benefits are factors that can aid in academic performance beyond textbook studying. For instance, a student with many friends is more likely to reach out for help or form a group to advance their studying.\n",
    "\n",
    "Fundamentally, all students learn at different paces and perform best in environments which suit their personalities [2]. As some studies have deduced, personality can predict academic achievement, as higher extraversion can positively associate with GPA [1].\n",
    "\n",
    "Our topic of interest is finding individual factors, beyond purely studying, that potentially influences one’s academic performance. Specifically, we chose to scale these factors into Big Five personalities, as they have been widely used as predictors in educational studies [1]. These five factors are referred to as neuroticism, extraversion, openness to experience, conscientiousness, and agreeableness.\n",
    "\n",
    "---\n",
    "\n",
    "References:\n",
    "\n",
    "[1] Rosito, Asina Christina. “The Big Five Personality Traits, Self-regulated Learning, and Academic Achievement.” Retrieved 5 March 2023, from https://www.scitepress.org/Papers/2018/85910/85910.pdf \n",
    "\n",
    "[2] Gandhi, Vandana. “Big Five Personality Traits and Academic Performance of Post Graduate Students.” Retrieved 5 March 2023, from https://www.researchgate.net/publication/329446960_Big_Five_Personality_Traits_and_Academic_Performance_of_Post_Graduate_Students \n"
   ]
  },
  {
   "cell_type": "markdown",
   "metadata": {},
   "source": [
    "# Hypothesis\n"
   ]
  },
  {
   "cell_type": "markdown",
   "metadata": {},
   "source": [
    "We hypothesize that conscientiousness and extraversion will strongly correlate to academic performance compared to the other Big Five personality traits. We assume having a diligent and social personality is a good outlook in the education setting, as suggested from our research."
   ]
  },
  {
   "cell_type": "markdown",
   "metadata": {},
   "source": [
    "# Data"
   ]
  },
  {
   "cell_type": "markdown",
   "metadata": {},
   "source": [
    "The **ideal** dataset we would like for our research would be surveys, questionnaires, or scraped information on students' academic performance (i.e. test scores, GPAs, etc.) and Big Five personality. At the minimum, the variables should be relevant to academic performance and the Big Five personalities. Since we are performing correlational research, we would ideally need +100 observations. These datasets should be yielded from students, ideally of broad fields of studies. Sources that we can depend on finding such datasets would be subsidiaries, such as Kaggle, or research papers. The data we will use for our research will be stored and organized in a private repository on GitHub https://github.com/COGS108/Group_032-Wi23 \n",
    "\n",
    "---\n",
    "\n",
    "## *Dataset 1*\n",
    "\n",
    "- Dataset Name: Engineering Graduate Salary Prediction\n",
    "- Link to the dataset: https://www.kaggle.com/datasets/manishkc06/engineering-graduate-salary-prediction\n",
    "- Number of observations: 2998 students\n",
    "- Description: Originally used to predict the salary of an engineering graduate, the dataset provides labels, such as College GPA and AMCAT Personality test scores. The forementioned labels will be used to measure academic performance and Big Five personality factors.\n",
    "\n",
    "## *Dataset 2*\n",
    "\n",
    "- Dataset Name: Correlation of Personality Traits & GPA for Jordanian Medical Students\n",
    "- Link to the dataset: https://data.mendeley.com/datasets/5rwpwr9rf2/1\n",
    "- Number of observations: 307 students\n",
    "- Description: A complete dataset on Hashemite University, Jordan's medical students, identifying their Big Five Model personality traits and College GPA. We plan to use this dataset in combination as it already yields the same labels as the first dataset.\n"
   ]
  },
  {
   "cell_type": "markdown",
   "metadata": {},
   "source": [
    "# Ethics & Privacy"
   ]
  },
  {
   "cell_type": "markdown",
   "metadata": {},
   "source": [
    "Our project used datasets pertaining to student’s academic performances, specifically on GPA, and their respective Big Five personality scores. All of our datasets were either found on Kaggle, a specialized Data Science community that caters to publishing as public datasets, or research papers via Google Scholar. The datasets we have collected are anonymous thus unable to reveal personal information. Some limitations or biases of our selected datasets is that it is exclusive to the population of students within the engineering and medical field. Therefore, our findings may not generalize to all students."
   ]
  },
  {
   "cell_type": "markdown",
   "metadata": {},
   "source": [
    "# Team Expectations "
   ]
  },
  {
   "cell_type": "markdown",
   "metadata": {},
   "source": [
    "\n",
    "Read over the [COGS108 Team Policies](https://github.com/COGS108/Projects/blob/master/COGS108_TeamPolicies.md) individually. Then, include your group’s expectations of one another for successful completion of your COGS108 project below. Discuss and agree on what all of your expectations are. Discuss how your team will communicate throughout the quarter and consider how you will communicate respectfully should conflicts arise. By including each member’s name above and by adding their name to the submission, you are indicating that you have read the COGS108 Team Policies, accept your team’s expectations below, and have every intention to fulfill them. These expectations are for your team’s use and benefit — they won’t be graded for their details.\n",
    "\n",
    "---\n",
    "\n",
    "- *Attend planned meetings on time*\n",
    "- *Maintain communication/check-ins on Discord*\n",
    "- *Contribute an equal portion to the project*\n",
    "- *Understanding each others roles, strengths, and responsibilities*"
   ]
  },
  {
   "cell_type": "markdown",
   "metadata": {},
   "source": [
    "# Project Timeline Proposal"
   ]
  },
  {
   "cell_type": "markdown",
   "metadata": {},
   "source": [
    "Specify your team's specific project timeline. An example timeline has been provided. Changes the dates, times, names, and details to fit your group's plan.\n",
    "\n",
    "If you think you will need any special resources or training outside what we have covered in COGS 108 to solve your problem, then your proposal should state these clearly. For example, if you have selected a problem that involves implementing multiple neural networks, please state this so we can make sure you know what you’re doing and so we can point you to resources you will need to implement your project. Note that you are not required to use outside methods.\n",
    "\n",
    "\n",
    "\n",
    "| Meeting Date  | Meeting Time| Completed Before Meeting  | Discuss at Meeting |\n",
    "|---|---|---|---|\n",
    "| 3/5  |  1 PM | Finalize datasets. Perform background research and tweak Project Proposals  | Finalize Project Proposal and Data Checkpoint notebooks | \n",
    "| 3/8  |  1 PM |  Propose our EDA analysis techniques. Progress in EDA; Discuss Analysis notebook | Review/Edit wrangling/EDA; Discuss Analysis Plan |\n",
    "| 3/12  | 1 PM  | Progress in EDA; Discuss Analysis notebook  | Complete analysis; Draft results/conclusion/discussion |\n",
    "| 3/15  | 1 PM  | Start assembling complete project notebook | Assembling complete project notebook   |\n",
    "| 3/18  | 1 PM  | Finalize analysis results/conclusion/discussion | Finalize analysis results/conclusion/discussion |"
   ]
  },
  {
   "cell_type": "code",
   "execution_count": null,
   "metadata": {},
   "outputs": [],
   "source": []
  }
 ],
 "metadata": {
  "kernelspec": {
   "display_name": "Python 3 (ipykernel)",
   "language": "python",
   "name": "python3"
  },
  "language_info": {
   "codemirror_mode": {
    "name": "ipython",
    "version": 3
   },
   "file_extension": ".py",
   "mimetype": "text/x-python",
   "name": "python",
   "nbconvert_exporter": "python",
   "pygments_lexer": "ipython3",
   "version": "3.11.2"
  }
 },
 "nbformat": 4,
 "nbformat_minor": 2
}
