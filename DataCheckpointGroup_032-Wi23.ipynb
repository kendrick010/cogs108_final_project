{
 "cells": [
  {
   "cell_type": "markdown",
   "metadata": {},
   "source": [
    "# COGS 108 - Data Checkpoint"
   ]
  },
  {
   "cell_type": "markdown",
   "metadata": {},
   "source": [
    "# Names\n",
    "\n",
    "- Ben Liou\n",
    "- Fanqi Lin\n",
    "- Tasnia Jamal\n",
    "- Kendrick Nguyen"
   ]
  },
  {
   "cell_type": "markdown",
   "metadata": {},
   "source": [
    "<a id='research_question'></a>\n",
    "# Research Question"
   ]
  },
  {
   "cell_type": "markdown",
   "metadata": {},
   "source": [
    "*Is there a correlation between students' Big Five personality traits (i.e. openness, conscientiousness, extraversion, agreeableness, and neuroticism) and academic performance?*"
   ]
  },
  {
   "cell_type": "markdown",
   "metadata": {},
   "source": [
    "# Dataset(s)"
   ]
  },
  {
   "cell_type": "markdown",
   "metadata": {},
   "source": [
    "## *Dataset 1*\n",
    "\n",
    "- Dataset Name: Engineering Graduate Salary Prediction\n",
    "- Link to the dataset: https://www.kaggle.com/datasets/manishkc06/engineering-graduate-salary-prediction\n",
    "- Number of observations: 2998 students\n",
    "- Description: Originally used to predict the salary of an engineering graduate, the dataset provides labels, such as College GPA and AMCAT Personality test scores. The forementioned labels will be used to measure academic performance and Big Five personality factors.\n",
    "\n",
    "## *Dataset 2*\n",
    "\n",
    "- Dataset Name: Correlation of Personality Traits & GPA for Jordanian Medical Students\n",
    "- Link to the dataset: https://data.mendeley.com/datasets/5rwpwr9rf2/1\n",
    "- Number of observations: 307 students\n",
    "- Description: A complete dataset on Hashemite University, Jordan's medical students, identifying their Big Five Model personality traits and College GPA. We plan to use this dataset in combination as it already yields the same labels as the first dataset.\n"
   ]
  },
  {
   "cell_type": "markdown",
   "metadata": {},
   "source": [
    "# Setup"
   ]
  },
  {
   "cell_type": "markdown",
   "metadata": {},
   "source": [
    "Import the following packages using their common shortened name found in parentheses:\n",
    "- `numpy (np)`\n",
    "- `pandas (pd)`"
   ]
  },
  {
   "cell_type": "code",
   "execution_count": 18,
   "metadata": {},
   "outputs": [],
   "source": [
    "import numpy as np\n",
    "import pandas as pd"
   ]
  },
  {
   "cell_type": "markdown",
   "metadata": {},
   "source": [
    "Toggle `EXPORT_CSV` to `True` if you want to export the all cleaned datasets, else `False`"
   ]
  },
  {
   "cell_type": "code",
   "execution_count": 19,
   "metadata": {},
   "outputs": [],
   "source": [
    "EXPORT_CSV = True"
   ]
  },
  {
   "cell_type": "markdown",
   "metadata": {},
   "source": [
    "Read the first dataset `Engineering_graduate_salary.csv` and assign it to the variable `engineering_df`"
   ]
  },
  {
   "cell_type": "code",
   "execution_count": 20,
   "metadata": {},
   "outputs": [
    {
     "data": {
      "text/html": [
       "<div>\n",
       "<style scoped>\n",
       "    .dataframe tbody tr th:only-of-type {\n",
       "        vertical-align: middle;\n",
       "    }\n",
       "\n",
       "    .dataframe tbody tr th {\n",
       "        vertical-align: top;\n",
       "    }\n",
       "\n",
       "    .dataframe thead th {\n",
       "        text-align: right;\n",
       "    }\n",
       "</style>\n",
       "<table border=\"1\" class=\"dataframe\">\n",
       "  <thead>\n",
       "    <tr style=\"text-align: right;\">\n",
       "      <th></th>\n",
       "      <th>ID</th>\n",
       "      <th>Gender</th>\n",
       "      <th>DOB</th>\n",
       "      <th>10percentage</th>\n",
       "      <th>10board</th>\n",
       "      <th>12graduation</th>\n",
       "      <th>12percentage</th>\n",
       "      <th>12board</th>\n",
       "      <th>CollegeID</th>\n",
       "      <th>CollegeTier</th>\n",
       "      <th>...</th>\n",
       "      <th>MechanicalEngg</th>\n",
       "      <th>ElectricalEngg</th>\n",
       "      <th>TelecomEngg</th>\n",
       "      <th>CivilEngg</th>\n",
       "      <th>conscientiousness</th>\n",
       "      <th>agreeableness</th>\n",
       "      <th>extraversion</th>\n",
       "      <th>nueroticism</th>\n",
       "      <th>openess_to_experience</th>\n",
       "      <th>Salary</th>\n",
       "    </tr>\n",
       "  </thead>\n",
       "  <tbody>\n",
       "    <tr>\n",
       "      <th>0</th>\n",
       "      <td>604399</td>\n",
       "      <td>f</td>\n",
       "      <td>1990-10-22</td>\n",
       "      <td>87.80</td>\n",
       "      <td>cbse</td>\n",
       "      <td>2009</td>\n",
       "      <td>84.00</td>\n",
       "      <td>cbse</td>\n",
       "      <td>6920</td>\n",
       "      <td>1</td>\n",
       "      <td>...</td>\n",
       "      <td>-1</td>\n",
       "      <td>-1</td>\n",
       "      <td>-1</td>\n",
       "      <td>-1</td>\n",
       "      <td>-0.1590</td>\n",
       "      <td>0.3789</td>\n",
       "      <td>1.2396</td>\n",
       "      <td>0.14590</td>\n",
       "      <td>0.2889</td>\n",
       "      <td>445000</td>\n",
       "    </tr>\n",
       "    <tr>\n",
       "      <th>1</th>\n",
       "      <td>988334</td>\n",
       "      <td>m</td>\n",
       "      <td>1990-05-15</td>\n",
       "      <td>57.00</td>\n",
       "      <td>cbse</td>\n",
       "      <td>2010</td>\n",
       "      <td>64.50</td>\n",
       "      <td>cbse</td>\n",
       "      <td>6624</td>\n",
       "      <td>2</td>\n",
       "      <td>...</td>\n",
       "      <td>-1</td>\n",
       "      <td>-1</td>\n",
       "      <td>-1</td>\n",
       "      <td>-1</td>\n",
       "      <td>1.1336</td>\n",
       "      <td>0.0459</td>\n",
       "      <td>1.2396</td>\n",
       "      <td>0.52620</td>\n",
       "      <td>-0.2859</td>\n",
       "      <td>110000</td>\n",
       "    </tr>\n",
       "    <tr>\n",
       "      <th>2</th>\n",
       "      <td>301647</td>\n",
       "      <td>m</td>\n",
       "      <td>1989-08-21</td>\n",
       "      <td>77.33</td>\n",
       "      <td>maharashtra state board,pune</td>\n",
       "      <td>2007</td>\n",
       "      <td>85.17</td>\n",
       "      <td>amravati divisional board</td>\n",
       "      <td>9084</td>\n",
       "      <td>2</td>\n",
       "      <td>...</td>\n",
       "      <td>-1</td>\n",
       "      <td>-1</td>\n",
       "      <td>260</td>\n",
       "      <td>-1</td>\n",
       "      <td>0.5100</td>\n",
       "      <td>-0.1232</td>\n",
       "      <td>1.5428</td>\n",
       "      <td>-0.29020</td>\n",
       "      <td>-0.2875</td>\n",
       "      <td>255000</td>\n",
       "    </tr>\n",
       "    <tr>\n",
       "      <th>3</th>\n",
       "      <td>582313</td>\n",
       "      <td>m</td>\n",
       "      <td>1991-05-04</td>\n",
       "      <td>84.30</td>\n",
       "      <td>cbse</td>\n",
       "      <td>2009</td>\n",
       "      <td>86.00</td>\n",
       "      <td>cbse</td>\n",
       "      <td>8195</td>\n",
       "      <td>1</td>\n",
       "      <td>...</td>\n",
       "      <td>-1</td>\n",
       "      <td>-1</td>\n",
       "      <td>-1</td>\n",
       "      <td>-1</td>\n",
       "      <td>-0.4463</td>\n",
       "      <td>0.2124</td>\n",
       "      <td>0.3174</td>\n",
       "      <td>0.27270</td>\n",
       "      <td>0.4805</td>\n",
       "      <td>420000</td>\n",
       "    </tr>\n",
       "    <tr>\n",
       "      <th>4</th>\n",
       "      <td>339001</td>\n",
       "      <td>f</td>\n",
       "      <td>1990-10-30</td>\n",
       "      <td>82.00</td>\n",
       "      <td>cbse</td>\n",
       "      <td>2008</td>\n",
       "      <td>75.00</td>\n",
       "      <td>cbse</td>\n",
       "      <td>4889</td>\n",
       "      <td>2</td>\n",
       "      <td>...</td>\n",
       "      <td>-1</td>\n",
       "      <td>-1</td>\n",
       "      <td>-1</td>\n",
       "      <td>-1</td>\n",
       "      <td>-1.4992</td>\n",
       "      <td>-0.7473</td>\n",
       "      <td>-1.0697</td>\n",
       "      <td>0.06223</td>\n",
       "      <td>0.1864</td>\n",
       "      <td>200000</td>\n",
       "    </tr>\n",
       "  </tbody>\n",
       "</table>\n",
       "<p>5 rows × 34 columns</p>\n",
       "</div>"
      ],
      "text/plain": [
       "       ID Gender         DOB  10percentage                       10board  \\\n",
       "0  604399      f  1990-10-22         87.80                          cbse   \n",
       "1  988334      m  1990-05-15         57.00                          cbse   \n",
       "2  301647      m  1989-08-21         77.33  maharashtra state board,pune   \n",
       "3  582313      m  1991-05-04         84.30                          cbse   \n",
       "4  339001      f  1990-10-30         82.00                          cbse   \n",
       "\n",
       "   12graduation  12percentage                    12board  CollegeID  \\\n",
       "0          2009         84.00                       cbse       6920   \n",
       "1          2010         64.50                       cbse       6624   \n",
       "2          2007         85.17  amravati divisional board       9084   \n",
       "3          2009         86.00                       cbse       8195   \n",
       "4          2008         75.00                       cbse       4889   \n",
       "\n",
       "   CollegeTier  ... MechanicalEngg ElectricalEngg  TelecomEngg  CivilEngg  \\\n",
       "0            1  ...             -1             -1           -1         -1   \n",
       "1            2  ...             -1             -1           -1         -1   \n",
       "2            2  ...             -1             -1          260         -1   \n",
       "3            1  ...             -1             -1           -1         -1   \n",
       "4            2  ...             -1             -1           -1         -1   \n",
       "\n",
       "   conscientiousness agreeableness  extraversion  nueroticism  \\\n",
       "0            -0.1590        0.3789        1.2396      0.14590   \n",
       "1             1.1336        0.0459        1.2396      0.52620   \n",
       "2             0.5100       -0.1232        1.5428     -0.29020   \n",
       "3            -0.4463        0.2124        0.3174      0.27270   \n",
       "4            -1.4992       -0.7473       -1.0697      0.06223   \n",
       "\n",
       "   openess_to_experience  Salary  \n",
       "0                 0.2889  445000  \n",
       "1                -0.2859  110000  \n",
       "2                -0.2875  255000  \n",
       "3                 0.4805  420000  \n",
       "4                 0.1864  200000  \n",
       "\n",
       "[5 rows x 34 columns]"
      ]
     },
     "execution_count": 20,
     "metadata": {},
     "output_type": "execute_result"
    }
   ],
   "source": [
    "engineering_df = pd.read_csv('data/raw_data/Engineering_graduate_salary.csv')\n",
    "\n",
    "engineering_df.head()"
   ]
  },
  {
   "cell_type": "markdown",
   "metadata": {},
   "source": [
    "Read the second dataset `Data for Repository Personality and GPA Research.xlsx` and assign it to the variable `medical_df`"
   ]
  },
  {
   "cell_type": "code",
   "execution_count": 21,
   "metadata": {},
   "outputs": [
    {
     "data": {
      "text/html": [
       "<div>\n",
       "<style scoped>\n",
       "    .dataframe tbody tr th:only-of-type {\n",
       "        vertical-align: middle;\n",
       "    }\n",
       "\n",
       "    .dataframe tbody tr th {\n",
       "        vertical-align: top;\n",
       "    }\n",
       "\n",
       "    .dataframe thead th {\n",
       "        text-align: right;\n",
       "    }\n",
       "</style>\n",
       "<table border=\"1\" class=\"dataframe\">\n",
       "  <thead>\n",
       "    <tr style=\"text-align: right;\">\n",
       "      <th></th>\n",
       "      <th>No.</th>\n",
       "      <th>Corresponding Year</th>\n",
       "      <th>Gender</th>\n",
       "      <th>Extraversion</th>\n",
       "      <th>Agreeableness</th>\n",
       "      <th>Conscientiousness</th>\n",
       "      <th>Neuroticism</th>\n",
       "      <th>Openness</th>\n",
       "      <th>GPA</th>\n",
       "      <th>Unnamed: 9</th>\n",
       "      <th>Key: Gender 1 = Male; Gender 2 = Female</th>\n",
       "      <th>Unnamed: 11</th>\n",
       "      <th>Unnamed: 12</th>\n",
       "      <th>Unnamed: 13</th>\n",
       "      <th>Unnamed: 14</th>\n",
       "      <th>Unnamed: 15</th>\n",
       "    </tr>\n",
       "  </thead>\n",
       "  <tbody>\n",
       "    <tr>\n",
       "      <th>0</th>\n",
       "      <td>1</td>\n",
       "      <td>2</td>\n",
       "      <td>2</td>\n",
       "      <td>0.725</td>\n",
       "      <td>0.644</td>\n",
       "      <td>0.556</td>\n",
       "      <td>0.950</td>\n",
       "      <td>0.84</td>\n",
       "      <td>3.84</td>\n",
       "      <td>NaN</td>\n",
       "      <td>NaN</td>\n",
       "      <td>NaN</td>\n",
       "      <td>NaN</td>\n",
       "      <td>NaN</td>\n",
       "      <td>NaN</td>\n",
       "      <td>NaN</td>\n",
       "    </tr>\n",
       "    <tr>\n",
       "      <th>1</th>\n",
       "      <td>2</td>\n",
       "      <td>2</td>\n",
       "      <td>2</td>\n",
       "      <td>0.400</td>\n",
       "      <td>0.867</td>\n",
       "      <td>0.689</td>\n",
       "      <td>0.625</td>\n",
       "      <td>0.52</td>\n",
       "      <td>2.90</td>\n",
       "      <td>NaN</td>\n",
       "      <td>NaN</td>\n",
       "      <td>NaN</td>\n",
       "      <td>NaN</td>\n",
       "      <td>NaN</td>\n",
       "      <td>NaN</td>\n",
       "      <td>NaN</td>\n",
       "    </tr>\n",
       "    <tr>\n",
       "      <th>2</th>\n",
       "      <td>3</td>\n",
       "      <td>2</td>\n",
       "      <td>2</td>\n",
       "      <td>0.700</td>\n",
       "      <td>0.756</td>\n",
       "      <td>0.711</td>\n",
       "      <td>0.600</td>\n",
       "      <td>0.76</td>\n",
       "      <td>2.57</td>\n",
       "      <td>NaN</td>\n",
       "      <td>NaN</td>\n",
       "      <td>NaN</td>\n",
       "      <td>NaN</td>\n",
       "      <td>NaN</td>\n",
       "      <td>NaN</td>\n",
       "      <td>NaN</td>\n",
       "    </tr>\n",
       "    <tr>\n",
       "      <th>3</th>\n",
       "      <td>4</td>\n",
       "      <td>2</td>\n",
       "      <td>2</td>\n",
       "      <td>0.575</td>\n",
       "      <td>0.556</td>\n",
       "      <td>0.644</td>\n",
       "      <td>0.550</td>\n",
       "      <td>0.54</td>\n",
       "      <td>2.58</td>\n",
       "      <td>NaN</td>\n",
       "      <td>NaN</td>\n",
       "      <td>NaN</td>\n",
       "      <td>NaN</td>\n",
       "      <td>NaN</td>\n",
       "      <td>NaN</td>\n",
       "      <td>NaN</td>\n",
       "    </tr>\n",
       "    <tr>\n",
       "      <th>4</th>\n",
       "      <td>5</td>\n",
       "      <td>2</td>\n",
       "      <td>2</td>\n",
       "      <td>0.575</td>\n",
       "      <td>0.911</td>\n",
       "      <td>0.800</td>\n",
       "      <td>0.625</td>\n",
       "      <td>0.78</td>\n",
       "      <td>3.65</td>\n",
       "      <td>NaN</td>\n",
       "      <td>NaN</td>\n",
       "      <td>NaN</td>\n",
       "      <td>NaN</td>\n",
       "      <td>NaN</td>\n",
       "      <td>NaN</td>\n",
       "      <td>NaN</td>\n",
       "    </tr>\n",
       "  </tbody>\n",
       "</table>\n",
       "</div>"
      ],
      "text/plain": [
       "   No.  Corresponding Year  Gender  Extraversion  Agreeableness  \\\n",
       "0    1                   2       2         0.725          0.644   \n",
       "1    2                   2       2         0.400          0.867   \n",
       "2    3                   2       2         0.700          0.756   \n",
       "3    4                   2       2         0.575          0.556   \n",
       "4    5                   2       2         0.575          0.911   \n",
       "\n",
       "   Conscientiousness  Neuroticism  Openness   GPA  Unnamed: 9  \\\n",
       "0              0.556        0.950      0.84  3.84         NaN   \n",
       "1              0.689        0.625      0.52  2.90         NaN   \n",
       "2              0.711        0.600      0.76  2.57         NaN   \n",
       "3              0.644        0.550      0.54  2.58         NaN   \n",
       "4              0.800        0.625      0.78  3.65         NaN   \n",
       "\n",
       "   Key: Gender 1 = Male; Gender 2 = Female  Unnamed: 11  Unnamed: 12  \\\n",
       "0                                      NaN          NaN          NaN   \n",
       "1                                      NaN          NaN          NaN   \n",
       "2                                      NaN          NaN          NaN   \n",
       "3                                      NaN          NaN          NaN   \n",
       "4                                      NaN          NaN          NaN   \n",
       "\n",
       "   Unnamed: 13  Unnamed: 14  Unnamed: 15  \n",
       "0          NaN          NaN          NaN  \n",
       "1          NaN          NaN          NaN  \n",
       "2          NaN          NaN          NaN  \n",
       "3          NaN          NaN          NaN  \n",
       "4          NaN          NaN          NaN  "
      ]
     },
     "execution_count": 21,
     "metadata": {},
     "output_type": "execute_result"
    }
   ],
   "source": [
    "medical_df = pd.read_csv('data/raw_data/Data for Repository Personality and GPA Research.csv')\n",
    "\n",
    "medical_df.head()"
   ]
  },
  {
   "cell_type": "markdown",
   "metadata": {},
   "source": [
    "# Data Cleaning"
   ]
  },
  {
   "cell_type": "markdown",
   "metadata": {},
   "source": [
    "## Part I: Cleaning the Engineering Graduate Dataset, `engineering_df`"
   ]
  },
  {
   "cell_type": "markdown",
   "metadata": {},
   "source": [
    "According to Kaggle's summary, there are 34 columns in the dataset. However, our only columns of interest are only `collegeGPA` and the AMCAT Personality test scores labels. We can therefore slice our dataframe to only include our columns of interest."
   ]
  },
  {
   "cell_type": "code",
   "execution_count": 22,
   "metadata": {},
   "outputs": [
    {
     "data": {
      "text/plain": [
       "Index(['ID', 'Gender', 'DOB', '10percentage', '10board', '12graduation',\n",
       "       '12percentage', '12board', 'CollegeID', 'CollegeTier', 'Degree',\n",
       "       'Specialization', 'collegeGPA', 'CollegeCityID', 'CollegeCityTier',\n",
       "       'CollegeState', 'GraduationYear', 'English', 'Logical', 'Quant',\n",
       "       'Domain', 'ComputerProgramming', 'ElectronicsAndSemicon',\n",
       "       'ComputerScience', 'MechanicalEngg', 'ElectricalEngg', 'TelecomEngg',\n",
       "       'CivilEngg', 'conscientiousness', 'agreeableness', 'extraversion',\n",
       "       'nueroticism', 'openess_to_experience', 'Salary'],\n",
       "      dtype='object')"
      ]
     },
     "execution_count": 22,
     "metadata": {},
     "output_type": "execute_result"
    }
   ],
   "source": [
    "# Output raw dataset columns\n",
    "engineering_df.columns"
   ]
  },
  {
   "cell_type": "code",
   "execution_count": 23,
   "metadata": {},
   "outputs": [
    {
     "data": {
      "text/html": [
       "<div>\n",
       "<style scoped>\n",
       "    .dataframe tbody tr th:only-of-type {\n",
       "        vertical-align: middle;\n",
       "    }\n",
       "\n",
       "    .dataframe tbody tr th {\n",
       "        vertical-align: top;\n",
       "    }\n",
       "\n",
       "    .dataframe thead th {\n",
       "        text-align: right;\n",
       "    }\n",
       "</style>\n",
       "<table border=\"1\" class=\"dataframe\">\n",
       "  <thead>\n",
       "    <tr style=\"text-align: right;\">\n",
       "      <th></th>\n",
       "      <th>gender</th>\n",
       "      <th>gpa</th>\n",
       "      <th>conscientiousness</th>\n",
       "      <th>agreeableness</th>\n",
       "      <th>extraversion</th>\n",
       "      <th>neuroticism</th>\n",
       "      <th>openness</th>\n",
       "    </tr>\n",
       "  </thead>\n",
       "  <tbody>\n",
       "    <tr>\n",
       "      <th>0</th>\n",
       "      <td>f</td>\n",
       "      <td>73.82</td>\n",
       "      <td>-0.1590</td>\n",
       "      <td>0.3789</td>\n",
       "      <td>1.2396</td>\n",
       "      <td>0.14590</td>\n",
       "      <td>0.2889</td>\n",
       "    </tr>\n",
       "    <tr>\n",
       "      <th>1</th>\n",
       "      <td>m</td>\n",
       "      <td>65.00</td>\n",
       "      <td>1.1336</td>\n",
       "      <td>0.0459</td>\n",
       "      <td>1.2396</td>\n",
       "      <td>0.52620</td>\n",
       "      <td>-0.2859</td>\n",
       "    </tr>\n",
       "    <tr>\n",
       "      <th>2</th>\n",
       "      <td>m</td>\n",
       "      <td>61.94</td>\n",
       "      <td>0.5100</td>\n",
       "      <td>-0.1232</td>\n",
       "      <td>1.5428</td>\n",
       "      <td>-0.29020</td>\n",
       "      <td>-0.2875</td>\n",
       "    </tr>\n",
       "    <tr>\n",
       "      <th>3</th>\n",
       "      <td>m</td>\n",
       "      <td>80.40</td>\n",
       "      <td>-0.4463</td>\n",
       "      <td>0.2124</td>\n",
       "      <td>0.3174</td>\n",
       "      <td>0.27270</td>\n",
       "      <td>0.4805</td>\n",
       "    </tr>\n",
       "    <tr>\n",
       "      <th>4</th>\n",
       "      <td>f</td>\n",
       "      <td>64.30</td>\n",
       "      <td>-1.4992</td>\n",
       "      <td>-0.7473</td>\n",
       "      <td>-1.0697</td>\n",
       "      <td>0.06223</td>\n",
       "      <td>0.1864</td>\n",
       "    </tr>\n",
       "  </tbody>\n",
       "</table>\n",
       "</div>"
      ],
      "text/plain": [
       "  gender    gpa  conscientiousness  agreeableness  extraversion  neuroticism  \\\n",
       "0      f  73.82            -0.1590         0.3789        1.2396      0.14590   \n",
       "1      m  65.00             1.1336         0.0459        1.2396      0.52620   \n",
       "2      m  61.94             0.5100        -0.1232        1.5428     -0.29020   \n",
       "3      m  80.40            -0.4463         0.2124        0.3174      0.27270   \n",
       "4      f  64.30            -1.4992        -0.7473       -1.0697      0.06223   \n",
       "\n",
       "   openness  \n",
       "0    0.2889  \n",
       "1   -0.2859  \n",
       "2   -0.2875  \n",
       "3    0.4805  \n",
       "4    0.1864  "
      ]
     },
     "execution_count": 23,
     "metadata": {},
     "output_type": "execute_result"
    }
   ],
   "source": [
    "# Save new dataframe with collegeGPA and the AMCAT Personality test scores labels\n",
    "engineering_df = engineering_df[['Gender',\n",
    "                                 'collegeGPA', \n",
    "                                 'conscientiousness', \n",
    "                                 'agreeableness', \n",
    "                                 'extraversion',\n",
    "                                 'nueroticism', \n",
    "                                 'openess_to_experience']]\n",
    "\n",
    "# Rename columns\n",
    "engineering_df = engineering_df.set_axis(['gender',\n",
    "                                          'gpa', \n",
    "                                          'conscientiousness', \n",
    "                                          'agreeableness', \n",
    "                                          'extraversion', \n",
    "                                          'neuroticism', \n",
    "                                          'openness'], axis=1)\n",
    "\n",
    "engineering_df.head()"
   ]
  },
  {
   "cell_type": "markdown",
   "metadata": {},
   "source": [
    "Drop rows where ANY column has missing data `NaN`"
   ]
  },
  {
   "cell_type": "code",
   "execution_count": 24,
   "metadata": {},
   "outputs": [
    {
     "name": "stdout",
     "output_type": "stream",
     "text": [
      "Original size: (2998, 7)\n",
      "Filtered size: (2998, 7)\n"
     ]
    }
   ],
   "source": [
    "raw_size = engineering_df.shape\n",
    "engineering_df = engineering_df.dropna().reset_index(drop=True)\n",
    "\n",
    "print(f'Original size: {raw_size}')\n",
    "print(f'Filtered size: {engineering_df.shape}')"
   ]
  },
  {
   "cell_type": "markdown",
   "metadata": {},
   "source": [
    "Notice that the GPA scaling is different with a <= 100.0 scale. These values are most likely percentages, thus we map these values to reflect our accustomed <= 4.0 scale."
   ]
  },
  {
   "cell_type": "code",
   "execution_count": 25,
   "metadata": {},
   "outputs": [
    {
     "data": {
      "text/html": [
       "<div>\n",
       "<style scoped>\n",
       "    .dataframe tbody tr th:only-of-type {\n",
       "        vertical-align: middle;\n",
       "    }\n",
       "\n",
       "    .dataframe tbody tr th {\n",
       "        vertical-align: top;\n",
       "    }\n",
       "\n",
       "    .dataframe thead th {\n",
       "        text-align: right;\n",
       "    }\n",
       "</style>\n",
       "<table border=\"1\" class=\"dataframe\">\n",
       "  <thead>\n",
       "    <tr style=\"text-align: right;\">\n",
       "      <th></th>\n",
       "      <th>gender</th>\n",
       "      <th>gpa</th>\n",
       "      <th>conscientiousness</th>\n",
       "      <th>agreeableness</th>\n",
       "      <th>extraversion</th>\n",
       "      <th>neuroticism</th>\n",
       "      <th>openness</th>\n",
       "    </tr>\n",
       "  </thead>\n",
       "  <tbody>\n",
       "    <tr>\n",
       "      <th>0</th>\n",
       "      <td>f</td>\n",
       "      <td>2.9528</td>\n",
       "      <td>-0.1590</td>\n",
       "      <td>0.3789</td>\n",
       "      <td>1.2396</td>\n",
       "      <td>0.14590</td>\n",
       "      <td>0.2889</td>\n",
       "    </tr>\n",
       "    <tr>\n",
       "      <th>1</th>\n",
       "      <td>m</td>\n",
       "      <td>2.6000</td>\n",
       "      <td>1.1336</td>\n",
       "      <td>0.0459</td>\n",
       "      <td>1.2396</td>\n",
       "      <td>0.52620</td>\n",
       "      <td>-0.2859</td>\n",
       "    </tr>\n",
       "    <tr>\n",
       "      <th>2</th>\n",
       "      <td>m</td>\n",
       "      <td>2.4776</td>\n",
       "      <td>0.5100</td>\n",
       "      <td>-0.1232</td>\n",
       "      <td>1.5428</td>\n",
       "      <td>-0.29020</td>\n",
       "      <td>-0.2875</td>\n",
       "    </tr>\n",
       "    <tr>\n",
       "      <th>3</th>\n",
       "      <td>m</td>\n",
       "      <td>3.2160</td>\n",
       "      <td>-0.4463</td>\n",
       "      <td>0.2124</td>\n",
       "      <td>0.3174</td>\n",
       "      <td>0.27270</td>\n",
       "      <td>0.4805</td>\n",
       "    </tr>\n",
       "    <tr>\n",
       "      <th>4</th>\n",
       "      <td>f</td>\n",
       "      <td>2.5720</td>\n",
       "      <td>-1.4992</td>\n",
       "      <td>-0.7473</td>\n",
       "      <td>-1.0697</td>\n",
       "      <td>0.06223</td>\n",
       "      <td>0.1864</td>\n",
       "    </tr>\n",
       "  </tbody>\n",
       "</table>\n",
       "</div>"
      ],
      "text/plain": [
       "  gender     gpa  conscientiousness  agreeableness  extraversion  neuroticism  \\\n",
       "0      f  2.9528            -0.1590         0.3789        1.2396      0.14590   \n",
       "1      m  2.6000             1.1336         0.0459        1.2396      0.52620   \n",
       "2      m  2.4776             0.5100        -0.1232        1.5428     -0.29020   \n",
       "3      m  3.2160            -0.4463         0.2124        0.3174      0.27270   \n",
       "4      f  2.5720            -1.4992        -0.7473       -1.0697      0.06223   \n",
       "\n",
       "   openness  \n",
       "0    0.2889  \n",
       "1   -0.2859  \n",
       "2   -0.2875  \n",
       "3    0.4805  \n",
       "4    0.1864  "
      ]
     },
     "execution_count": 25,
     "metadata": {},
     "output_type": "execute_result"
    }
   ],
   "source": [
    "gpa_scale = lambda x: (x * 4.0) / 100.0\n",
    "engineering_df['gpa'] = engineering_df['gpa'].apply(gpa_scale)\n",
    "\n",
    "engineering_df.head()"
   ]
  },
  {
   "cell_type": "markdown",
   "metadata": {},
   "source": [
    "The AMCAT Personality or Big Five scores are inconsistently scaled for this dataset. In addition, there is canonically no scaling for AMCAT exams. Yet, according the [AMCAT's portal](https://www.myamcat.com/help/amcat-scores-and-results/scores), a 'good score' is often weighted on percentile. Therefore, we can wrangle and map our personality scores into percentiles respectively within each column."
   ]
  },
  {
   "cell_type": "code",
   "execution_count": 26,
   "metadata": {},
   "outputs": [],
   "source": [
    "big_five = engineering_df.columns[2:]\n",
    "\n",
    "# Loop through all big five personalities columns and map values to percentiles\n",
    "for personality in big_five:\n",
    "    engineering_df[personality] = engineering_df[personality].rank(pct = True)"
   ]
  },
  {
   "cell_type": "markdown",
   "metadata": {},
   "source": [
    "## Part II: Summary of  Engineering Graduate Cleaned Dataset, `engineering_df`"
   ]
  },
  {
   "cell_type": "markdown",
   "metadata": {},
   "source": [
    "Written Description of `engineering_df` Column Labels:\n",
    "- `gender`: Male `m` or female `f`\n",
    "- `gpa`: Scaled college GPA ( out of 4.0 )\n",
    "- `conscientiousness`: Big Five Conscientiousness percentile ( out of 1.0 )\n",
    "- `agreeableness`: Big Five Agreeableness percentile ( out of 1.0 )\n",
    "- `extraversion`: Big Five Extraversion percentile ( out of 1.0 )\n",
    "- `nueroticism`: Big Five Nueroticism percentile ( out of 1.0 )\n",
    "- `openess`: Big Five Openess percentile ( out of 1.0 )"
   ]
  },
  {
   "cell_type": "code",
   "execution_count": 27,
   "metadata": {},
   "outputs": [
    {
     "data": {
      "text/html": [
       "<div>\n",
       "<style scoped>\n",
       "    .dataframe tbody tr th:only-of-type {\n",
       "        vertical-align: middle;\n",
       "    }\n",
       "\n",
       "    .dataframe tbody tr th {\n",
       "        vertical-align: top;\n",
       "    }\n",
       "\n",
       "    .dataframe thead th {\n",
       "        text-align: right;\n",
       "    }\n",
       "</style>\n",
       "<table border=\"1\" class=\"dataframe\">\n",
       "  <thead>\n",
       "    <tr style=\"text-align: right;\">\n",
       "      <th></th>\n",
       "      <th>gender</th>\n",
       "      <th>gpa</th>\n",
       "      <th>conscientiousness</th>\n",
       "      <th>agreeableness</th>\n",
       "      <th>extraversion</th>\n",
       "      <th>neuroticism</th>\n",
       "      <th>openness</th>\n",
       "    </tr>\n",
       "  </thead>\n",
       "  <tbody>\n",
       "    <tr>\n",
       "      <th>0</th>\n",
       "      <td>f</td>\n",
       "      <td>2.9528</td>\n",
       "      <td>0.423115</td>\n",
       "      <td>0.572048</td>\n",
       "      <td>0.912608</td>\n",
       "      <td>0.622248</td>\n",
       "      <td>0.637759</td>\n",
       "    </tr>\n",
       "    <tr>\n",
       "      <th>1</th>\n",
       "      <td>m</td>\n",
       "      <td>2.6000</td>\n",
       "      <td>0.877085</td>\n",
       "      <td>0.416111</td>\n",
       "      <td>0.912608</td>\n",
       "      <td>0.745163</td>\n",
       "      <td>0.401935</td>\n",
       "    </tr>\n",
       "    <tr>\n",
       "      <th>2</th>\n",
       "      <td>m</td>\n",
       "      <td>2.4776</td>\n",
       "      <td>0.676451</td>\n",
       "      <td>0.322382</td>\n",
       "      <td>0.957638</td>\n",
       "      <td>0.455971</td>\n",
       "      <td>0.365911</td>\n",
       "    </tr>\n",
       "    <tr>\n",
       "      <th>3</th>\n",
       "      <td>m</td>\n",
       "      <td>3.2160</td>\n",
       "      <td>0.306371</td>\n",
       "      <td>0.486991</td>\n",
       "      <td>0.606071</td>\n",
       "      <td>0.667445</td>\n",
       "      <td>0.719646</td>\n",
       "    </tr>\n",
       "    <tr>\n",
       "      <th>4</th>\n",
       "      <td>f</td>\n",
       "      <td>2.5720</td>\n",
       "      <td>0.088893</td>\n",
       "      <td>0.154436</td>\n",
       "      <td>0.125584</td>\n",
       "      <td>0.591561</td>\n",
       "      <td>0.599900</td>\n",
       "    </tr>\n",
       "  </tbody>\n",
       "</table>\n",
       "</div>"
      ],
      "text/plain": [
       "  gender     gpa  conscientiousness  agreeableness  extraversion  neuroticism  \\\n",
       "0      f  2.9528           0.423115       0.572048      0.912608     0.622248   \n",
       "1      m  2.6000           0.877085       0.416111      0.912608     0.745163   \n",
       "2      m  2.4776           0.676451       0.322382      0.957638     0.455971   \n",
       "3      m  3.2160           0.306371       0.486991      0.606071     0.667445   \n",
       "4      f  2.5720           0.088893       0.154436      0.125584     0.591561   \n",
       "\n",
       "   openness  \n",
       "0  0.637759  \n",
       "1  0.401935  \n",
       "2  0.365911  \n",
       "3  0.719646  \n",
       "4  0.599900  "
      ]
     },
     "execution_count": 27,
     "metadata": {},
     "output_type": "execute_result"
    }
   ],
   "source": [
    "engineering_df.head()"
   ]
  },
  {
   "cell_type": "code",
   "execution_count": 28,
   "metadata": {},
   "outputs": [],
   "source": [
    "# Export cleaned dataset\n",
    "if EXPORT_CSV:\n",
    "    engineering_df.to_csv('data/cleaned_data/engineering_dataset.csv', index=False)"
   ]
  },
  {
   "cell_type": "markdown",
   "metadata": {},
   "source": [
    "## Part III: Cleaning the Jordanian Medical Students Dataset, `medical_df`"
   ]
  },
  {
   "cell_type": "markdown",
   "metadata": {},
   "source": [
    "Similarly, we will perform cleaning and wrangling for our Jordanian Medical Students Dataset, starting off with selecting our columns of interest"
   ]
  },
  {
   "cell_type": "code",
   "execution_count": 29,
   "metadata": {},
   "outputs": [
    {
     "data": {
      "text/plain": [
       "Index(['No.', 'Corresponding Year', 'Gender', 'Extraversion', 'Agreeableness',\n",
       "       'Conscientiousness', 'Neuroticism', 'Openness', 'GPA', 'Unnamed: 9',\n",
       "       'Key: Gender 1 = Male; Gender 2 = Female', 'Unnamed: 11', 'Unnamed: 12',\n",
       "       'Unnamed: 13', 'Unnamed: 14', 'Unnamed: 15'],\n",
       "      dtype='object')"
      ]
     },
     "execution_count": 29,
     "metadata": {},
     "output_type": "execute_result"
    }
   ],
   "source": [
    "# Output raw dataset columns\n",
    "medical_df.columns"
   ]
  },
  {
   "cell_type": "code",
   "execution_count": 30,
   "metadata": {},
   "outputs": [
    {
     "data": {
      "text/html": [
       "<div>\n",
       "<style scoped>\n",
       "    .dataframe tbody tr th:only-of-type {\n",
       "        vertical-align: middle;\n",
       "    }\n",
       "\n",
       "    .dataframe tbody tr th {\n",
       "        vertical-align: top;\n",
       "    }\n",
       "\n",
       "    .dataframe thead th {\n",
       "        text-align: right;\n",
       "    }\n",
       "</style>\n",
       "<table border=\"1\" class=\"dataframe\">\n",
       "  <thead>\n",
       "    <tr style=\"text-align: right;\">\n",
       "      <th></th>\n",
       "      <th>gender</th>\n",
       "      <th>gpa</th>\n",
       "      <th>conscientiousness</th>\n",
       "      <th>agreeableness</th>\n",
       "      <th>extraversion</th>\n",
       "      <th>neuroticism</th>\n",
       "      <th>openness</th>\n",
       "    </tr>\n",
       "  </thead>\n",
       "  <tbody>\n",
       "    <tr>\n",
       "      <th>0</th>\n",
       "      <td>2</td>\n",
       "      <td>3.84</td>\n",
       "      <td>0.556</td>\n",
       "      <td>0.644</td>\n",
       "      <td>0.725</td>\n",
       "      <td>0.950</td>\n",
       "      <td>0.84</td>\n",
       "    </tr>\n",
       "    <tr>\n",
       "      <th>1</th>\n",
       "      <td>2</td>\n",
       "      <td>2.90</td>\n",
       "      <td>0.689</td>\n",
       "      <td>0.867</td>\n",
       "      <td>0.400</td>\n",
       "      <td>0.625</td>\n",
       "      <td>0.52</td>\n",
       "    </tr>\n",
       "    <tr>\n",
       "      <th>2</th>\n",
       "      <td>2</td>\n",
       "      <td>2.57</td>\n",
       "      <td>0.711</td>\n",
       "      <td>0.756</td>\n",
       "      <td>0.700</td>\n",
       "      <td>0.600</td>\n",
       "      <td>0.76</td>\n",
       "    </tr>\n",
       "    <tr>\n",
       "      <th>3</th>\n",
       "      <td>2</td>\n",
       "      <td>2.58</td>\n",
       "      <td>0.644</td>\n",
       "      <td>0.556</td>\n",
       "      <td>0.575</td>\n",
       "      <td>0.550</td>\n",
       "      <td>0.54</td>\n",
       "    </tr>\n",
       "    <tr>\n",
       "      <th>4</th>\n",
       "      <td>2</td>\n",
       "      <td>3.65</td>\n",
       "      <td>0.800</td>\n",
       "      <td>0.911</td>\n",
       "      <td>0.575</td>\n",
       "      <td>0.625</td>\n",
       "      <td>0.78</td>\n",
       "    </tr>\n",
       "  </tbody>\n",
       "</table>\n",
       "</div>"
      ],
      "text/plain": [
       "   gender   gpa  conscientiousness  agreeableness  extraversion  neuroticism  \\\n",
       "0       2  3.84              0.556          0.644         0.725        0.950   \n",
       "1       2  2.90              0.689          0.867         0.400        0.625   \n",
       "2       2  2.57              0.711          0.756         0.700        0.600   \n",
       "3       2  2.58              0.644          0.556         0.575        0.550   \n",
       "4       2  3.65              0.800          0.911         0.575        0.625   \n",
       "\n",
       "   openness  \n",
       "0      0.84  \n",
       "1      0.52  \n",
       "2      0.76  \n",
       "3      0.54  \n",
       "4      0.78  "
      ]
     },
     "execution_count": 30,
     "metadata": {},
     "output_type": "execute_result"
    }
   ],
   "source": [
    "# Save new dataframe with GPA and Big Five personality test scores labels\n",
    "medical_df = medical_df[['Gender',\n",
    "                         'GPA', \n",
    "                         'Conscientiousness', \n",
    "                         'Agreeableness', \n",
    "                         'Extraversion',\n",
    "                         'Neuroticism', \n",
    "                         'Openness']]\n",
    "\n",
    "# Rename columns\n",
    "medical_df = medical_df.set_axis(['gender',\n",
    "                                  'gpa', \n",
    "                                  'conscientiousness', \n",
    "                                  'agreeableness', \n",
    "                                  'extraversion', \n",
    "                                  'neuroticism', \n",
    "                                  'openness'], axis=1)\n",
    "\n",
    "medical_df.head()"
   ]
  },
  {
   "cell_type": "markdown",
   "metadata": {},
   "source": [
    "Drop rows where ANY column has missing data `NaN`"
   ]
  },
  {
   "cell_type": "code",
   "execution_count": 31,
   "metadata": {},
   "outputs": [
    {
     "name": "stdout",
     "output_type": "stream",
     "text": [
      "Original size: (307, 7)\n",
      "Filtered size: (307, 7)\n"
     ]
    }
   ],
   "source": [
    "raw_size = medical_df.shape\n",
    "medical_df = medical_df.dropna().reset_index(drop=True)\n",
    "\n",
    "print(f'Original size: {raw_size}')\n",
    "print(f'Filtered size: {medical_df.shape}')"
   ]
  },
  {
   "cell_type": "markdown",
   "metadata": {},
   "source": [
    "For consistency, we need to standardize the `gender` column to either `m` or `f` similar to the `engineering_df` dataframe. Fortunately, the raw `Data for Repository Personality and GPA Research.csv` dataset provided us a key for `gender` labels. \n",
    "\n",
    "*Key: Gender 1 = Male; Gender 2 = Female*"
   ]
  },
  {
   "cell_type": "code",
   "execution_count": 32,
   "metadata": {},
   "outputs": [],
   "source": [
    "medical_df['gender'] = medical_df['gender'].replace(1, 'm')\n",
    "medical_df['gender'] = medical_df['gender'].replace(2,'f')"
   ]
  },
  {
   "cell_type": "markdown",
   "metadata": {},
   "source": [
    "This dataset appears to already have <= 4.0 GPA sclaing. Thus, the next step is to convert the Big Five personality column values into percentiles as well for consistency."
   ]
  },
  {
   "cell_type": "code",
   "execution_count": 33,
   "metadata": {},
   "outputs": [],
   "source": [
    "# Loop through all big five personalities columns and map values to percentiles\n",
    "for personality in big_five:\n",
    "    medical_df[personality] = medical_df[personality].rank(pct = True)"
   ]
  },
  {
   "cell_type": "markdown",
   "metadata": {},
   "source": [
    "## Part IV: Summary of Jordanian Medical Students Cleaned Dataset, medical_df"
   ]
  },
  {
   "cell_type": "markdown",
   "metadata": {},
   "source": [
    "Written Description of `medical_df` Column Labels:\n",
    "- `gender`: Male `m` or female `f`\n",
    "- `gpa`: Scaled college GPA ( out of 4.0 )\n",
    "- `conscientiousness`: Big Five Conscientiousness percentile ( out of 1.0 )\n",
    "- `agreeableness`: Big Five Agreeableness percentile ( out of 1.0 )\n",
    "- `extraversion`: Big Five Extraversion percentile ( out of 1.0 )\n",
    "- `nueroticism`: Big Five Nueroticism percentile ( out of 1.0 )\n",
    "- `openess`: Big Five Openess percentile ( out of 1.0 )"
   ]
  },
  {
   "cell_type": "code",
   "execution_count": 34,
   "metadata": {},
   "outputs": [
    {
     "data": {
      "text/html": [
       "<div>\n",
       "<style scoped>\n",
       "    .dataframe tbody tr th:only-of-type {\n",
       "        vertical-align: middle;\n",
       "    }\n",
       "\n",
       "    .dataframe tbody tr th {\n",
       "        vertical-align: top;\n",
       "    }\n",
       "\n",
       "    .dataframe thead th {\n",
       "        text-align: right;\n",
       "    }\n",
       "</style>\n",
       "<table border=\"1\" class=\"dataframe\">\n",
       "  <thead>\n",
       "    <tr style=\"text-align: right;\">\n",
       "      <th></th>\n",
       "      <th>gender</th>\n",
       "      <th>gpa</th>\n",
       "      <th>conscientiousness</th>\n",
       "      <th>agreeableness</th>\n",
       "      <th>extraversion</th>\n",
       "      <th>neuroticism</th>\n",
       "      <th>openness</th>\n",
       "    </tr>\n",
       "  </thead>\n",
       "  <tbody>\n",
       "    <tr>\n",
       "      <th>0</th>\n",
       "      <td>f</td>\n",
       "      <td>3.84</td>\n",
       "      <td>0.136808</td>\n",
       "      <td>0.153094</td>\n",
       "      <td>0.806189</td>\n",
       "      <td>0.980456</td>\n",
       "      <td>0.887622</td>\n",
       "    </tr>\n",
       "    <tr>\n",
       "      <th>1</th>\n",
       "      <td>f</td>\n",
       "      <td>2.90</td>\n",
       "      <td>0.452769</td>\n",
       "      <td>0.838762</td>\n",
       "      <td>0.035831</td>\n",
       "      <td>0.543974</td>\n",
       "      <td>0.057003</td>\n",
       "    </tr>\n",
       "    <tr>\n",
       "      <th>2</th>\n",
       "      <td>f</td>\n",
       "      <td>2.57</td>\n",
       "      <td>0.537459</td>\n",
       "      <td>0.452769</td>\n",
       "      <td>0.726384</td>\n",
       "      <td>0.472313</td>\n",
       "      <td>0.677524</td>\n",
       "    </tr>\n",
       "    <tr>\n",
       "      <th>3</th>\n",
       "      <td>f</td>\n",
       "      <td>2.58</td>\n",
       "      <td>0.333876</td>\n",
       "      <td>0.043974</td>\n",
       "      <td>0.324104</td>\n",
       "      <td>0.350163</td>\n",
       "      <td>0.068404</td>\n",
       "    </tr>\n",
       "    <tr>\n",
       "      <th>4</th>\n",
       "      <td>f</td>\n",
       "      <td>3.65</td>\n",
       "      <td>0.793160</td>\n",
       "      <td>0.941368</td>\n",
       "      <td>0.324104</td>\n",
       "      <td>0.543974</td>\n",
       "      <td>0.744300</td>\n",
       "    </tr>\n",
       "  </tbody>\n",
       "</table>\n",
       "</div>"
      ],
      "text/plain": [
       "  gender   gpa  conscientiousness  agreeableness  extraversion  neuroticism  \\\n",
       "0      f  3.84           0.136808       0.153094      0.806189     0.980456   \n",
       "1      f  2.90           0.452769       0.838762      0.035831     0.543974   \n",
       "2      f  2.57           0.537459       0.452769      0.726384     0.472313   \n",
       "3      f  2.58           0.333876       0.043974      0.324104     0.350163   \n",
       "4      f  3.65           0.793160       0.941368      0.324104     0.543974   \n",
       "\n",
       "   openness  \n",
       "0  0.887622  \n",
       "1  0.057003  \n",
       "2  0.677524  \n",
       "3  0.068404  \n",
       "4  0.744300  "
      ]
     },
     "execution_count": 34,
     "metadata": {},
     "output_type": "execute_result"
    }
   ],
   "source": [
    "medical_df.head()"
   ]
  },
  {
   "cell_type": "code",
   "execution_count": 35,
   "metadata": {},
   "outputs": [],
   "source": [
    "# Export cleaned dataset\n",
    "if EXPORT_CSV:\n",
    "    medical_df.to_csv('data/cleaned_data/medical_dataset.csv', index=False)"
   ]
  },
  {
   "cell_type": "code",
   "execution_count": null,
   "metadata": {},
   "outputs": [],
   "source": []
  }
 ],
 "metadata": {
  "kernelspec": {
   "display_name": "Python 3 (ipykernel)",
   "language": "python",
   "name": "python3"
  },
  "language_info": {
   "codemirror_mode": {
    "name": "ipython",
    "version": 3
   },
   "file_extension": ".py",
   "mimetype": "text/x-python",
   "name": "python",
   "nbconvert_exporter": "python",
   "pygments_lexer": "ipython3",
   "version": "3.11.2"
  }
 },
 "nbformat": 4,
 "nbformat_minor": 2
}
